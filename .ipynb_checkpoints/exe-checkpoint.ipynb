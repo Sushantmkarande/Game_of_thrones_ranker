{
 "cells": [
  {
   "cell_type": "code",
   "execution_count": 58,
   "metadata": {},
   "outputs": [],
   "source": [
    "# import numpy as np\n",
    "# from sklearn                        import metrics, svm\n",
    "# from sklearn.linear_model           import LinearRegression\n",
    "# from sklearn.linear_model           import LogisticRegression\n",
    "# from sklearn.tree                   import DecisionTreeClassifier\n",
    "# from sklearn.neighbors              import KNeighborsClassifier\n",
    "# from sklearn.discriminant_analysis  import LinearDiscriminantAnalysis\n",
    "# from sklearn.naive_bayes            import GaussianNB\n",
    "# from sklearn.svm                    import SVC\n",
    "\n",
    "\n",
    "\n",
    "# clf = LinearRegression()\n",
    "# clf.fit(x_train, y_train)\n",
    "# print(\"LinearRegression\")\n",
    "# pred_cv = model.predict(x_test)\n",
    "# print(accuracy_score(y_test,pred_cv))\n",
    "\n",
    "# clf = svm.SVR()\n",
    "# clf.fit(x_train, y_train)\n",
    "# print(\"SVR\")\n",
    "# pred_cv = model.predict(x_test)\n",
    "# print(accuracy_score(y_test,pred_cv))\n",
    "\n",
    "\n"
   ]
  },
  {
   "cell_type": "code",
   "execution_count": 59,
   "metadata": {},
   "outputs": [],
   "source": [
    "# clf = DecisionTreeClassifier()\n",
    "# clf.fit(x_train, y_train)\n",
    "# print(\"DecisionTreeClassifier\")\n",
    "# print(clf.predict(predictionData))\n",
    "\n",
    "# clf = KNeighborsClassifier()\n",
    "# clf.fit(x_train, y_train)\n",
    "# print(\"KNeighborsClassifier\")\n",
    "# print(clf.predict(predictionData))\n",
    "\n",
    "# clf = LinearDiscriminantAnalysis()\n",
    "# clf.fit(x_train, y_train)\n",
    "# print(\"LinearDiscriminantAnalysis\")\n",
    "# print(clf.predict(predictionData))\n",
    "\n",
    "# clf = GaussianNB()\n",
    "# clf.fit(x_train, y_train)\n",
    "# print(\"GaussianNB\")\n",
    "# print(clf.predict(predictionData))\n",
    "\n",
    "# clf = SVC()\n",
    "# clf.fit(x_train, y_train)\n",
    "# print(\"SVC\")\n",
    "# print(clf.predict(predictionData))"
   ]
  },
  {
   "cell_type": "code",
   "execution_count": null,
   "metadata": {},
   "outputs": [],
   "source": []
  }
 ],
 "metadata": {
  "kernelspec": {
   "display_name": "Python 3",
   "language": "python",
   "name": "python3"
  },
  "language_info": {
   "codemirror_mode": {
    "name": "ipython",
    "version": 3
   },
   "file_extension": ".py",
   "mimetype": "text/x-python",
   "name": "python",
   "nbconvert_exporter": "python",
   "pygments_lexer": "ipython3",
   "version": "3.6.5"
  }
 },
 "nbformat": 4,
 "nbformat_minor": 2
}
