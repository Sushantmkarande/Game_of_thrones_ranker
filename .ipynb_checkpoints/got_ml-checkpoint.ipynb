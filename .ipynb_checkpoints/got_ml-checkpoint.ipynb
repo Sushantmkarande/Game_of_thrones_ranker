{
 "cells": [
  {
   "cell_type": "code",
   "execution_count": 35,
   "metadata": {},
   "outputs": [],
   "source": [
    "# All project packages imported at the start\n",
    "\n",
    "# Project packages\n",
    "import pandas as pd\n",
    "import numpy as np\n",
    "\n",
    "# Visualisations\n",
    "import matplotlib.pyplot as plt \n",
    "import seaborn as sns\n",
    "\n",
    "# Statistics\n",
    "from scipy import stats\n",
    "from scipy.stats import norm, skew\n",
    "from statistics import mode\n",
    "\n",
    "# Machine Learning\n",
    "from sklearn.preprocessing import LabelEncoder\n",
    "from sklearn.linear_model import Lasso, Ridge, RidgeCV, ElasticNet\n",
    "\n",
    "\n",
    "from sklearn.pipeline import make_pipeline\n",
    "from sklearn.preprocessing import RobustScaler\n",
    "from sklearn.base import BaseEstimator, TransformerMixin, RegressorMixin, clone\n",
    "from sklearn.model_selection import KFold, cross_val_score, train_test_split\n",
    "from sklearn.metrics import mean_squared_error\n",
    "from sklearn.model_selection import GridSearchCV\n",
    "from sklearn.linear_model import LinearRegression\n",
    "from sklearn.ensemble import GradientBoostingRegressor\n",
    "from sklearn.kernel_ridge import KernelRidge\n",
    "\n",
    "\n",
    "    \n",
    "train = pd.read_csv('train.csv')\n",
    "    \n",
    "test = pd.read_csv('test.csv')\n",
    "\n"
   ]
  },
  {
   "cell_type": "code",
   "execution_count": 36,
   "metadata": {},
   "outputs": [],
   "source": [
    "from sklearn.utils import shuffle\n",
    "\n",
    "train = shuffle(train,n_samples= 5000,)\n"
   ]
  },
  {
   "cell_type": "code",
   "execution_count": 5,
   "metadata": {
    "run_control": {
     "marked": true
    }
   },
   "outputs": [],
   "source": [
    "train_ID = train['soldierId']\n",
    "test_ID = test['soldierId']\n",
    "\n",
    "train.drop(\"soldierId\", axis = 1, inplace = True)\n",
    "test.drop(\"soldierId\", axis = 1, inplace = True)\n",
    "\n",
    "\n",
    "\n",
    "train.drop(\"shipId\", axis = 1, inplace = True)\n",
    "test.drop(\"shipId\", axis = 1, inplace = True)\n",
    "train.drop(\"attackId\", axis = 1, inplace = True)\n",
    "test.drop(\"attackId\", axis = 1, inplace = True)\n",
    "\n"
   ]
  },
  {
   "cell_type": "code",
   "execution_count": 6,
   "metadata": {},
   "outputs": [],
   "source": [
    "train['knockedOutSoldiers'].fillna(train['knockedOutSoldiers'].mode()[0], inplace=True)\n",
    "train['horseRideDistance'].fillna(train['horseRideDistance'].mode()[0], inplace=True)\n",
    "train['respectEarned'].fillna(train['respectEarned'].mode()[0], inplace=True)"
   ]
  },
  {
   "cell_type": "markdown",
   "metadata": {},
   "source": [
    "# Watchout for null features"
   ]
  },
  {
   "cell_type": "code",
   "execution_count": 7,
   "metadata": {},
   "outputs": [
    {
     "data": {
      "text/plain": [
       "assists                0\n",
       "greekFireItems         0\n",
       "healthLost             0\n",
       "knockedOutSoldiers     0\n",
       "throatSlits            0\n",
       "healingPotionsUsed     0\n",
       "killRank               0\n",
       "killPoints             0\n",
       "enemiesKilled          0\n",
       "killingStreaks         0\n",
       "farthermostKill        0\n",
       "numShips               0\n",
       "numSaves               0\n",
       "horseRideDistance      0\n",
       "horseRideKills         0\n",
       "swimmingDistance       0\n",
       "friendlyKills          0\n",
       "castleTowerDestroys    0\n",
       "onFootDistance         0\n",
       "weaponsUsed            0\n",
       "respectEarned          0\n",
       "bestSoldierPerc        0\n",
       "dtype: int64"
      ]
     },
     "execution_count": 7,
     "metadata": {},
     "output_type": "execute_result"
    }
   ],
   "source": [
    "train.isnull().sum()"
   ]
  },
  {
   "cell_type": "markdown",
   "metadata": {},
   "source": [
    "# Preparing X and y  dataset"
   ]
  },
  {
   "cell_type": "code",
   "execution_count": 8,
   "metadata": {},
   "outputs": [],
   "source": [
    "x = train.drop(['bestSoldierPerc',],1)\n",
    "y = train.bestSoldierPerc"
   ]
  },
  {
   "cell_type": "markdown",
   "metadata": {},
   "source": [
    "# Ridge Regression"
   ]
  },
  {
   "cell_type": "code",
   "execution_count": 9,
   "metadata": {},
   "outputs": [
    {
     "name": "stdout",
     "output_type": "stream",
     "text": [
      "ridge regression linear model intercept: 0.5861973194077246\n",
      "ridge regression linear model coeff:\n",
      "[ 0.11783849  0.15653983 -0.01192948 -0.0811439  -0.00507812 -0.07060002\n",
      " -0.68551525 -0.00792347 -0.22223252 -0.37725753 -0.03255197  0.12089711\n",
      "  0.14969069 -0.01858832 -0.01769118  0.19160917 -0.01865561  0.06788929\n",
      "  0.70293659  0.09843146  0.10535137]\n",
      "Number of non-zero features: 21\n",
      "R-squared score (training): 0.821\n",
      "R-squared score (test): 0.794\n"
     ]
    }
   ],
   "source": [
    "\n",
    "\n",
    "x_train, x_test, y_train, y_test = train_test_split(x,y, test_size =0.2)\n",
    "\n",
    "from sklearn.linear_model import ridge\n",
    "from sklearn.preprocessing import MinMaxScaler\n",
    " \n",
    "scaler = MinMaxScaler()\n",
    "\n",
    "X_train_scaled = scaler.fit_transform(x_train)\n",
    "X_test_scaled = scaler.transform(x_test)\n",
    "\n",
    "linridge = Ridge(alpha=1).fit(X_train_scaled, y_train)\n",
    "\n",
    "print('ridge regression linear model intercept: {}'\n",
    "     .format(linridge.intercept_))\n",
    "print('ridge regression linear model coeff:\\n{}'\n",
    "     .format(linridge.coef_))\n",
    "print('Number of non-zero features: {}'\n",
    "     .format(np.sum(linridge.coef_ != 0)))\n",
    "print('R-squared score (training): {:.3f}'\n",
    "     .format(linridge.score(X_train_scaled, y_train)))\n",
    "print('R-squared score (test): {:.3f}'\n",
    "     .format(linridge.score(X_test_scaled, y_test)))\n"
   ]
  },
  {
   "cell_type": "markdown",
   "metadata": {},
   "source": [
    "# Lasso Regression"
   ]
  },
  {
   "cell_type": "code",
   "execution_count": 10,
   "metadata": {},
   "outputs": [
    {
     "name": "stderr",
     "output_type": "stream",
     "text": [
      "C:\\Users\\sushant\\Anaconda3\\lib\\site-packages\\sklearn\\linear_model\\coordinate_descent.py:491: ConvergenceWarning: Objective did not converge. You might want to increase the number of iterations. Fitting data with very small alpha may cause precision problems.\n",
      "  ConvergenceWarning)\n"
     ]
    }
   ],
   "source": [
    "from sklearn.linear_model import Lasso\n",
    "\n",
    "alpha_lasso = [ 1e-15, 1e-10, 1e-8, 1e-5,1e-4, 1e-3,1e-2,]\n",
    "\n",
    "train_score = []\n",
    "test_score = []\n",
    "\n",
    "for alpha in alpha_lasso:\n",
    "    \n",
    "    lasso_model= Lasso(alpha=alpha, max_iter=1000)\n",
    "    x_train, x_test, y_train, y_test = train_test_split(x,y, test_size =0.2)\n",
    "    lasso_model.fit(x_train, y_train)\n",
    "    train_score.append(lasso_model.score(x_train, y_train))\n",
    "    test_score.append(lasso_model.score(x_test, y_test))\n",
    "lasso_scores = pd.DataFrame({'alpha_lasso':alpha_lasso, 'train_score':train_score, 'test_score':test_score})\n",
    "\n",
    "# for index, coefficient in enumerate(lasso_model.coef_):\n",
    "    "
   ]
  },
  {
   "cell_type": "code",
   "execution_count": 11,
   "metadata": {},
   "outputs": [
    {
     "data": {
      "text/html": [
       "<div>\n",
       "<style scoped>\n",
       "    .dataframe tbody tr th:only-of-type {\n",
       "        vertical-align: middle;\n",
       "    }\n",
       "\n",
       "    .dataframe tbody tr th {\n",
       "        vertical-align: top;\n",
       "    }\n",
       "\n",
       "    .dataframe thead th {\n",
       "        text-align: right;\n",
       "    }\n",
       "</style>\n",
       "<table border=\"1\" class=\"dataframe\">\n",
       "  <thead>\n",
       "    <tr style=\"text-align: right;\">\n",
       "      <th></th>\n",
       "      <th>alpha_lasso</th>\n",
       "      <th>train_score</th>\n",
       "      <th>test_score</th>\n",
       "    </tr>\n",
       "  </thead>\n",
       "  <tbody>\n",
       "    <tr>\n",
       "      <th>0</th>\n",
       "      <td>1.000000e-15</td>\n",
       "      <td>0.823472</td>\n",
       "      <td>0.791723</td>\n",
       "    </tr>\n",
       "    <tr>\n",
       "      <th>1</th>\n",
       "      <td>1.000000e-10</td>\n",
       "      <td>0.824157</td>\n",
       "      <td>0.797513</td>\n",
       "    </tr>\n",
       "    <tr>\n",
       "      <th>2</th>\n",
       "      <td>1.000000e-08</td>\n",
       "      <td>0.816837</td>\n",
       "      <td>0.833845</td>\n",
       "    </tr>\n",
       "    <tr>\n",
       "      <th>3</th>\n",
       "      <td>1.000000e-05</td>\n",
       "      <td>0.824728</td>\n",
       "      <td>0.793096</td>\n",
       "    </tr>\n",
       "    <tr>\n",
       "      <th>4</th>\n",
       "      <td>1.000000e-04</td>\n",
       "      <td>0.824286</td>\n",
       "      <td>0.803606</td>\n",
       "    </tr>\n",
       "    <tr>\n",
       "      <th>5</th>\n",
       "      <td>1.000000e-03</td>\n",
       "      <td>0.821234</td>\n",
       "      <td>0.794184</td>\n",
       "    </tr>\n",
       "    <tr>\n",
       "      <th>6</th>\n",
       "      <td>1.000000e-02</td>\n",
       "      <td>0.802551</td>\n",
       "      <td>0.797416</td>\n",
       "    </tr>\n",
       "  </tbody>\n",
       "</table>\n",
       "</div>"
      ],
      "text/plain": [
       "    alpha_lasso  train_score  test_score\n",
       "0  1.000000e-15     0.823472    0.791723\n",
       "1  1.000000e-10     0.824157    0.797513\n",
       "2  1.000000e-08     0.816837    0.833845\n",
       "3  1.000000e-05     0.824728    0.793096\n",
       "4  1.000000e-04     0.824286    0.803606\n",
       "5  1.000000e-03     0.821234    0.794184\n",
       "6  1.000000e-02     0.802551    0.797416"
      ]
     },
     "execution_count": 11,
     "metadata": {},
     "output_type": "execute_result"
    }
   ],
   "source": [
    "lasso_scores"
   ]
  },
  {
   "cell_type": "markdown",
   "metadata": {},
   "source": [
    "### Lasso Intercept and train, test score"
   ]
  },
  {
   "cell_type": "code",
   "execution_count": 12,
   "metadata": {},
   "outputs": [
    {
     "name": "stdout",
     "output_type": "stream",
     "text": [
      "    alpha_lasso  train_score  test_score\n",
      "0  1.000000e-15     0.823472    0.791723\n",
      "1  1.000000e-10     0.824157    0.797513\n",
      "2  1.000000e-08     0.816837    0.833845\n",
      "3  1.000000e-05     0.824728    0.793096\n",
      "4  1.000000e-04     0.824286    0.803606\n",
      "5  1.000000e-03     0.821234    0.794184\n",
      "6  1.000000e-02     0.802551    0.797416\n",
      "intercept  0.33036419507912507\n"
     ]
    }
   ],
   "source": [
    "print(lasso_scores.head(11))\n",
    "print('intercept ',lasso_model.intercept_)"
   ]
  },
  {
   "cell_type": "markdown",
   "metadata": {},
   "source": [
    "### Importance of features by lasso"
   ]
  },
  {
   "cell_type": "code",
   "execution_count": 13,
   "metadata": {
    "run_control": {
     "marked": true
    }
   },
   "outputs": [
    {
     "data": {
      "text/html": [
       "<div>\n",
       "<style scoped>\n",
       "    .dataframe tbody tr th:only-of-type {\n",
       "        vertical-align: middle;\n",
       "    }\n",
       "\n",
       "    .dataframe tbody tr th {\n",
       "        vertical-align: top;\n",
       "    }\n",
       "\n",
       "    .dataframe thead th {\n",
       "        text-align: right;\n",
       "    }\n",
       "</style>\n",
       "<table border=\"1\" class=\"dataframe\">\n",
       "  <thead>\n",
       "    <tr style=\"text-align: right;\">\n",
       "      <th></th>\n",
       "      <th>features</th>\n",
       "      <th>coeficient</th>\n",
       "    </tr>\n",
       "  </thead>\n",
       "  <tbody>\n",
       "    <tr>\n",
       "      <th>0</th>\n",
       "      <td>assists</td>\n",
       "      <td>0.010723</td>\n",
       "    </tr>\n",
       "    <tr>\n",
       "      <th>19</th>\n",
       "      <td>weaponsUsed</td>\n",
       "      <td>0.004917</td>\n",
       "    </tr>\n",
       "    <tr>\n",
       "      <th>11</th>\n",
       "      <td>numShips</td>\n",
       "      <td>0.001457</td>\n",
       "    </tr>\n",
       "    <tr>\n",
       "      <th>1</th>\n",
       "      <td>greekFireItems</td>\n",
       "      <td>0.000777</td>\n",
       "    </tr>\n",
       "    <tr>\n",
       "      <th>20</th>\n",
       "      <td>respectEarned</td>\n",
       "      <td>0.000189</td>\n",
       "    </tr>\n",
       "    <tr>\n",
       "      <th>15</th>\n",
       "      <td>swimmingDistance</td>\n",
       "      <td>0.000177</td>\n",
       "    </tr>\n",
       "    <tr>\n",
       "      <th>18</th>\n",
       "      <td>onFootDistance</td>\n",
       "      <td>0.000157</td>\n",
       "    </tr>\n",
       "    <tr>\n",
       "      <th>13</th>\n",
       "      <td>horseRideDistance</td>\n",
       "      <td>0.000007</td>\n",
       "    </tr>\n",
       "    <tr>\n",
       "      <th>5</th>\n",
       "      <td>healingPotionsUsed</td>\n",
       "      <td>0.000000</td>\n",
       "    </tr>\n",
       "    <tr>\n",
       "      <th>4</th>\n",
       "      <td>throatSlits</td>\n",
       "      <td>-0.000000</td>\n",
       "    </tr>\n",
       "    <tr>\n",
       "      <th>3</th>\n",
       "      <td>knockedOutSoldiers</td>\n",
       "      <td>-0.000000</td>\n",
       "    </tr>\n",
       "    <tr>\n",
       "      <th>12</th>\n",
       "      <td>numSaves</td>\n",
       "      <td>0.000000</td>\n",
       "    </tr>\n",
       "    <tr>\n",
       "      <th>14</th>\n",
       "      <td>horseRideKills</td>\n",
       "      <td>-0.000000</td>\n",
       "    </tr>\n",
       "    <tr>\n",
       "      <th>16</th>\n",
       "      <td>friendlyKills</td>\n",
       "      <td>-0.000000</td>\n",
       "    </tr>\n",
       "    <tr>\n",
       "      <th>17</th>\n",
       "      <td>castleTowerDestroys</td>\n",
       "      <td>0.000000</td>\n",
       "    </tr>\n",
       "    <tr>\n",
       "      <th>2</th>\n",
       "      <td>healthLost</td>\n",
       "      <td>-0.000048</td>\n",
       "    </tr>\n",
       "    <tr>\n",
       "      <th>7</th>\n",
       "      <td>killPoints</td>\n",
       "      <td>-0.000052</td>\n",
       "    </tr>\n",
       "    <tr>\n",
       "      <th>10</th>\n",
       "      <td>farthermostKill</td>\n",
       "      <td>-0.000135</td>\n",
       "    </tr>\n",
       "    <tr>\n",
       "      <th>6</th>\n",
       "      <td>killRank</td>\n",
       "      <td>-0.005923</td>\n",
       "    </tr>\n",
       "    <tr>\n",
       "      <th>8</th>\n",
       "      <td>enemiesKilled</td>\n",
       "      <td>-0.006804</td>\n",
       "    </tr>\n",
       "    <tr>\n",
       "      <th>9</th>\n",
       "      <td>killingStreaks</td>\n",
       "      <td>-0.060719</td>\n",
       "    </tr>\n",
       "  </tbody>\n",
       "</table>\n",
       "</div>"
      ],
      "text/plain": [
       "               features  coeficient\n",
       "0               assists    0.010723\n",
       "19          weaponsUsed    0.004917\n",
       "11             numShips    0.001457\n",
       "1        greekFireItems    0.000777\n",
       "20        respectEarned    0.000189\n",
       "15     swimmingDistance    0.000177\n",
       "18       onFootDistance    0.000157\n",
       "13    horseRideDistance    0.000007\n",
       "5    healingPotionsUsed    0.000000\n",
       "4           throatSlits   -0.000000\n",
       "3    knockedOutSoldiers   -0.000000\n",
       "12             numSaves    0.000000\n",
       "14       horseRideKills   -0.000000\n",
       "16        friendlyKills   -0.000000\n",
       "17  castleTowerDestroys    0.000000\n",
       "2            healthLost   -0.000048\n",
       "7            killPoints   -0.000052\n",
       "10      farthermostKill   -0.000135\n",
       "6              killRank   -0.005923\n",
       "8         enemiesKilled   -0.006804\n",
       "9        killingStreaks   -0.060719"
      ]
     },
     "execution_count": 13,
     "metadata": {},
     "output_type": "execute_result"
    }
   ],
   "source": [
    "df = pd.DataFrame({\"features\": x_train.columns, \"coeficient\": lasso_model.coef_} )\n",
    "df.sort_values(by='coeficient', ascending= False)"
   ]
  },
  {
   "cell_type": "markdown",
   "metadata": {},
   "source": [
    "# Linear Regression"
   ]
  },
  {
   "cell_type": "code",
   "execution_count": 14,
   "metadata": {
    "run_control": {
     "marked": true
    }
   },
   "outputs": [],
   "source": [
    "from sklearn.linear_model import LinearRegression\n",
    "from sklearn.preprocessing import PolynomialFeatures\n",
    "\n",
    "\n",
    "train_score = []\n",
    "test_score = []\n",
    "\n",
    "\n",
    "degree= [1, 2]\n",
    "\n",
    "\n",
    "\n",
    "for i, degree in enumerate(degree):\n",
    "    poly = PolynomialFeatures(degree = degree)\n",
    "    x_poly = poly.fit_transform(x)\n",
    "    X_train, X_test, y_train, y_test = train_test_split(x_poly, y, random_state=0)\n",
    "    model = LinearRegression()\n",
    "    model.fit(X_train, y_train)\n",
    "    train_score.append(model.score(X_train, y_train))\n",
    "    test_score.append(model.score(X_test, y_test))\n",
    "    \n",
    "\n",
    "    "
   ]
  },
  {
   "cell_type": "code",
   "execution_count": 15,
   "metadata": {},
   "outputs": [
    {
     "name": "stdout",
     "output_type": "stream",
     "text": [
      "   degree  train_score  test_score\n",
      "0       2     0.817573    0.819357\n",
      "1       2     0.914224   -0.455313\n"
     ]
    }
   ],
   "source": [
    "df = pd.DataFrame({\"degree\": degree, \"train_score\": train_score, 'test_score': test_score} )\n",
    "print(df)"
   ]
  },
  {
   "cell_type": "markdown",
   "metadata": {},
   "source": [
    "# Decision tree "
   ]
  },
  {
   "cell_type": "code",
   "execution_count": 16,
   "metadata": {},
   "outputs": [
    {
     "name": "stdout",
     "output_type": "stream",
     "text": [
      "train accuracy : 0.8217458042668929\n",
      "test accuracy : 0.8185523801046908\n"
     ]
    }
   ],
   "source": [
    "from sklearn.tree import DecisionTreeRegressor\n",
    "\n",
    "X_train, X_test, y_train, y_test = train_test_split(x, y, random_state=0)\n",
    "\n",
    "\n",
    "decreg = DecisionTreeRegressor(max_depth=4)\n",
    "\n",
    "decreg.fit(X_train, y_train)\n",
    "\n",
    "\n",
    "feature_imp = []\n",
    "\n",
    "for index, importance in enumerate(decreg.feature_importances_):\n",
    "    feature_imp.append([importance ,X_train.columns[index]])\n",
    "    \n",
    "    \n",
    "imp_df = pd.DataFrame({'features' : [sublist[1] for sublist in feature_imp] , \n",
    "                       'importance' : [sublist[0] for sublist in feature_imp]})\n",
    "\n",
    "imp_df.sort_values(['importance'] ,ascending= False ,inplace= True)\n",
    "\n",
    "\n",
    "print('train accuracy :', decreg.score(X_train, y_train))\n",
    "print('test accuracy :', decreg.score(X_test, y_test))"
   ]
  },
  {
   "cell_type": "code",
   "execution_count": 17,
   "metadata": {},
   "outputs": [
    {
     "name": "stdout",
     "output_type": "stream",
     "text": [
      "          features  importance\n",
      "18  onFootDistance    0.808029\n",
      "6         killRank    0.175054\n",
      "11        numShips    0.015681\n",
      "7       killPoints    0.001235\n",
      "0          assists    0.000000\n"
     ]
    }
   ],
   "source": [
    "print(imp_df.head())"
   ]
  },
  {
   "cell_type": "markdown",
   "metadata": {},
   "source": [
    "# Support vector Regression"
   ]
  },
  {
   "cell_type": "code",
   "execution_count": 18,
   "metadata": {},
   "outputs": [],
   "source": [
    "from sklearn.model_selection import validation_curve\n",
    "from sklearn.svm import SVR\n",
    "\n",
    "\n",
    "X_train, X_test, y_train, y_test = train_test_split(x, y, random_state=0)\n",
    "\n",
    "param_range =  np.logspace(-10,1,6) \n",
    "\n",
    "\n",
    "\n",
    "train_score, test_score = validation_curve(SVR() , X_train, y_train, param_name = 'gamma',\n",
    "                                           param_range = param_range, cv= 3 )\n",
    "\n",
    "\n",
    "\n",
    "result= (train_score.mean(axis=1), test_score.mean(axis=1))"
   ]
  },
  {
   "cell_type": "code",
   "execution_count": 19,
   "metadata": {},
   "outputs": [
    {
     "name": "stdout",
     "output_type": "stream",
     "text": [
      "(array([0.34936128, 0.74305708, 0.82631018, 0.91209785, 0.90527244,\n",
      "       0.90525877]), array([ 0.34523685,  0.73507572,  0.74580779,  0.36450174, -0.00287026,\n",
      "       -0.00466934]))\n"
     ]
    }
   ],
   "source": [
    "print(result)"
   ]
  },
  {
   "cell_type": "markdown",
   "metadata": {},
   "source": [
    "# RandomForest Regression\n"
   ]
  },
  {
   "cell_type": "code",
   "execution_count": 20,
   "metadata": {},
   "outputs": [],
   "source": [
    "from sklearn.ensemble import RandomForestRegressor\n",
    "\n",
    "\n",
    "X_train, X_test, y_train, y_test = train_test_split(x, y, random_state=0)\n",
    "\n",
    "param_range =  [0.2, 0.5, 0.8,1, None] \n",
    "\n",
    "\n",
    "\n",
    "train_score, test_score = validation_curve(RandomForestRegressor() , X_train, y_train, param_name = 'max_depth',\n",
    "                                           param_range = param_range, cv= 3 )\n",
    "\n",
    "\n",
    "\n",
    "result= (train_score.mean(axis=1), test_score.mean(axis=1))\n",
    "\n",
    "max_depth = pd.DataFrame({'param_range': param_range , 'train': train_score.mean(axis=1), 'test': test_score.mean(axis=1)})"
   ]
  },
  {
   "cell_type": "code",
   "execution_count": 21,
   "metadata": {
    "scrolled": true
   },
   "outputs": [
    {
     "name": "stdout",
     "output_type": "stream",
     "text": [
      "   param_range     train      test\n",
      "0          0.2 -0.000343 -0.007105\n",
      "1          0.5 -0.000202 -0.006038\n",
      "2          0.8 -0.000117 -0.005365\n",
      "3          1.0  0.627530  0.612822\n",
      "4          NaN  0.966868  0.813262\n"
     ]
    }
   ],
   "source": [
    "print(max_depth)"
   ]
  },
  {
   "cell_type": "code",
   "execution_count": 22,
   "metadata": {},
   "outputs": [
    {
     "name": "stdout",
     "output_type": "stream",
     "text": [
      "    param_range     train      test\n",
      "0             1  0.967166  0.819845\n",
      "1             5  0.910789  0.828286\n",
      "2            10  0.876544  0.819468\n",
      "3            20  0.836137  0.807423\n",
      "4            30  0.811028  0.788147\n",
      "5            40  0.792474  0.777087\n",
      "6            50  0.783633  0.770990\n",
      "7            60  0.770532  0.757817\n",
      "8            80  0.730260  0.715493\n",
      "9           100  0.661128  0.646082\n",
      "10          120  0.624587  0.616077\n"
     ]
    }
   ],
   "source": [
    "from sklearn.ensemble import RandomForestRegressor\n",
    "\n",
    "\n",
    "X_train, X_test, y_train, y_test = train_test_split(x, y, random_state=0)\n",
    "\n",
    "param_range =  [1,5,10,20,30,40,50,60,80,100,120] \n",
    "\n",
    "\n",
    "\n",
    "train_score, test_score = validation_curve(RandomForestRegressor() , X_train, y_train, param_name = 'min_samples_leaf',\n",
    "                                           param_range = param_range, cv= 3 )\n",
    "\n",
    "\n",
    "result= (train_score.mean(axis=1), test_score.mean(axis=1))\n",
    "\n",
    "min_sample = pd.DataFrame({'param_range': param_range , 'train': train_score.mean(axis=1), 'test': test_score.mean(axis=1)})\n",
    "\n",
    "\n",
    "print(min_sample)"
   ]
  },
  {
   "cell_type": "markdown",
   "metadata": {},
   "source": [
    "# KNN"
   ]
  },
  {
   "cell_type": "code",
   "execution_count": 43,
   "metadata": {},
   "outputs": [],
   "source": [
    "from sklearn.neighbors import KNeighborsRegressor\n",
    "\n",
    "X_train, X_test, y_train, y_test = train_test_split(x, y, random_state=0)\n",
    "\n",
    "\n",
    "\n",
    "n_neighbors  =  [1,2,3,4,5,6,7,9,11,13,15,17,19,21,23,25,27,29,35,41,49,55] \n",
    "\n",
    "\n",
    "\n",
    "train_score, test_score = validation_curve(KNeighborsRegressor() , X_train, y_train, param_name = 'n_neighbors',\n",
    "                                           param_range = n_neighbors, cv= 3 )\n",
    "\n",
    "\n",
    "result= (train_score.mean(axis=1), test_score.mean(axis=1))\n",
    "\n",
    "min_sample = pd.DataFrame({'param_range': n_neighbors , 'train': train_score.mean(axis=1), 'test': test_score.mean(axis=1)})\n",
    "\n"
   ]
  },
  {
   "cell_type": "code",
   "execution_count": 44,
   "metadata": {},
   "outputs": [
    {
     "data": {
      "text/html": [
       "<div>\n",
       "<style scoped>\n",
       "    .dataframe tbody tr th:only-of-type {\n",
       "        vertical-align: middle;\n",
       "    }\n",
       "\n",
       "    .dataframe tbody tr th {\n",
       "        vertical-align: top;\n",
       "    }\n",
       "\n",
       "    .dataframe thead th {\n",
       "        text-align: right;\n",
       "    }\n",
       "</style>\n",
       "<table border=\"1\" class=\"dataframe\">\n",
       "  <thead>\n",
       "    <tr style=\"text-align: right;\">\n",
       "      <th></th>\n",
       "      <th>param_range</th>\n",
       "      <th>train</th>\n",
       "      <th>test</th>\n",
       "    </tr>\n",
       "  </thead>\n",
       "  <tbody>\n",
       "    <tr>\n",
       "      <th>0</th>\n",
       "      <td>1</td>\n",
       "      <td>1.000000</td>\n",
       "      <td>0.540939</td>\n",
       "    </tr>\n",
       "    <tr>\n",
       "      <th>1</th>\n",
       "      <td>2</td>\n",
       "      <td>0.891359</td>\n",
       "      <td>0.649675</td>\n",
       "    </tr>\n",
       "    <tr>\n",
       "      <th>2</th>\n",
       "      <td>3</td>\n",
       "      <td>0.844431</td>\n",
       "      <td>0.692090</td>\n",
       "    </tr>\n",
       "    <tr>\n",
       "      <th>3</th>\n",
       "      <td>4</td>\n",
       "      <td>0.823297</td>\n",
       "      <td>0.709446</td>\n",
       "    </tr>\n",
       "    <tr>\n",
       "      <th>4</th>\n",
       "      <td>5</td>\n",
       "      <td>0.810421</td>\n",
       "      <td>0.712593</td>\n",
       "    </tr>\n",
       "    <tr>\n",
       "      <th>5</th>\n",
       "      <td>6</td>\n",
       "      <td>0.799984</td>\n",
       "      <td>0.716525</td>\n",
       "    </tr>\n",
       "    <tr>\n",
       "      <th>6</th>\n",
       "      <td>7</td>\n",
       "      <td>0.791709</td>\n",
       "      <td>0.722808</td>\n",
       "    </tr>\n",
       "    <tr>\n",
       "      <th>7</th>\n",
       "      <td>9</td>\n",
       "      <td>0.779799</td>\n",
       "      <td>0.721363</td>\n",
       "    </tr>\n",
       "    <tr>\n",
       "      <th>8</th>\n",
       "      <td>11</td>\n",
       "      <td>0.774404</td>\n",
       "      <td>0.724486</td>\n",
       "    </tr>\n",
       "    <tr>\n",
       "      <th>9</th>\n",
       "      <td>13</td>\n",
       "      <td>0.768805</td>\n",
       "      <td>0.728043</td>\n",
       "    </tr>\n",
       "    <tr>\n",
       "      <th>10</th>\n",
       "      <td>15</td>\n",
       "      <td>0.764520</td>\n",
       "      <td>0.726403</td>\n",
       "    </tr>\n",
       "    <tr>\n",
       "      <th>11</th>\n",
       "      <td>17</td>\n",
       "      <td>0.761144</td>\n",
       "      <td>0.725476</td>\n",
       "    </tr>\n",
       "    <tr>\n",
       "      <th>12</th>\n",
       "      <td>19</td>\n",
       "      <td>0.758634</td>\n",
       "      <td>0.727785</td>\n",
       "    </tr>\n",
       "    <tr>\n",
       "      <th>13</th>\n",
       "      <td>21</td>\n",
       "      <td>0.757914</td>\n",
       "      <td>0.728090</td>\n",
       "    </tr>\n",
       "    <tr>\n",
       "      <th>14</th>\n",
       "      <td>23</td>\n",
       "      <td>0.754870</td>\n",
       "      <td>0.730065</td>\n",
       "    </tr>\n",
       "    <tr>\n",
       "      <th>15</th>\n",
       "      <td>25</td>\n",
       "      <td>0.752323</td>\n",
       "      <td>0.729987</td>\n",
       "    </tr>\n",
       "    <tr>\n",
       "      <th>16</th>\n",
       "      <td>27</td>\n",
       "      <td>0.750067</td>\n",
       "      <td>0.728972</td>\n",
       "    </tr>\n",
       "    <tr>\n",
       "      <th>17</th>\n",
       "      <td>29</td>\n",
       "      <td>0.748795</td>\n",
       "      <td>0.730972</td>\n",
       "    </tr>\n",
       "    <tr>\n",
       "      <th>18</th>\n",
       "      <td>35</td>\n",
       "      <td>0.744713</td>\n",
       "      <td>0.730252</td>\n",
       "    </tr>\n",
       "    <tr>\n",
       "      <th>19</th>\n",
       "      <td>41</td>\n",
       "      <td>0.742217</td>\n",
       "      <td>0.729585</td>\n",
       "    </tr>\n",
       "    <tr>\n",
       "      <th>20</th>\n",
       "      <td>49</td>\n",
       "      <td>0.737754</td>\n",
       "      <td>0.727552</td>\n",
       "    </tr>\n",
       "    <tr>\n",
       "      <th>21</th>\n",
       "      <td>55</td>\n",
       "      <td>0.735905</td>\n",
       "      <td>0.726984</td>\n",
       "    </tr>\n",
       "  </tbody>\n",
       "</table>\n",
       "</div>"
      ],
      "text/plain": [
       "    param_range     train      test\n",
       "0             1  1.000000  0.540939\n",
       "1             2  0.891359  0.649675\n",
       "2             3  0.844431  0.692090\n",
       "3             4  0.823297  0.709446\n",
       "4             5  0.810421  0.712593\n",
       "5             6  0.799984  0.716525\n",
       "6             7  0.791709  0.722808\n",
       "7             9  0.779799  0.721363\n",
       "8            11  0.774404  0.724486\n",
       "9            13  0.768805  0.728043\n",
       "10           15  0.764520  0.726403\n",
       "11           17  0.761144  0.725476\n",
       "12           19  0.758634  0.727785\n",
       "13           21  0.757914  0.728090\n",
       "14           23  0.754870  0.730065\n",
       "15           25  0.752323  0.729987\n",
       "16           27  0.750067  0.728972\n",
       "17           29  0.748795  0.730972\n",
       "18           35  0.744713  0.730252\n",
       "19           41  0.742217  0.729585\n",
       "20           49  0.737754  0.727552\n",
       "21           55  0.735905  0.726984"
      ]
     },
     "execution_count": 44,
     "metadata": {},
     "output_type": "execute_result"
    }
   ],
   "source": [
    "min_sample"
   ]
  },
  {
   "cell_type": "code",
   "execution_count": null,
   "metadata": {},
   "outputs": [],
   "source": []
  },
  {
   "cell_type": "code",
   "execution_count": null,
   "metadata": {},
   "outputs": [],
   "source": []
  },
  {
   "cell_type": "code",
   "execution_count": null,
   "metadata": {},
   "outputs": [],
   "source": []
  },
  {
   "cell_type": "code",
   "execution_count": null,
   "metadata": {},
   "outputs": [],
   "source": []
  },
  {
   "cell_type": "code",
   "execution_count": null,
   "metadata": {},
   "outputs": [],
   "source": []
  },
  {
   "cell_type": "code",
   "execution_count": null,
   "metadata": {},
   "outputs": [],
   "source": []
  },
  {
   "cell_type": "code",
   "execution_count": null,
   "metadata": {},
   "outputs": [],
   "source": []
  },
  {
   "cell_type": "code",
   "execution_count": null,
   "metadata": {},
   "outputs": [],
   "source": []
  },
  {
   "cell_type": "code",
   "execution_count": null,
   "metadata": {},
   "outputs": [],
   "source": []
  },
  {
   "cell_type": "code",
   "execution_count": null,
   "metadata": {},
   "outputs": [],
   "source": []
  },
  {
   "cell_type": "code",
   "execution_count": null,
   "metadata": {},
   "outputs": [],
   "source": []
  },
  {
   "cell_type": "code",
   "execution_count": null,
   "metadata": {},
   "outputs": [],
   "source": [
    "submission=pd.read_csv(\"Sample_Submission.csv\")"
   ]
  },
  {
   "cell_type": "code",
   "execution_count": null,
   "metadata": {},
   "outputs": [],
   "source": [
    "submission['bestSoldierPerc']=pred_test\n",
    "submission['soldierId']=test_original['soldierId']"
   ]
  },
  {
   "cell_type": "code",
   "execution_count": null,
   "metadata": {},
   "outputs": [],
   "source": [
    "pd.DataFrame(submission, columns=['soldierId','bestSoldierPerc']).to_csv('sub.csv')"
   ]
  },
  {
   "cell_type": "code",
   "execution_count": null,
   "metadata": {},
   "outputs": [],
   "source": [
    "from sklearn.tree import DecisionTreeClassifier\n",
    "from sklearn.tree import DecisionTreeRegressor\n",
    "\n",
    "tree = DecisionTreeClassifier(random_state=101)\n",
    "\n",
    "treeReg = DecisionTreeRegressor(random_state=0, max_depth=5)\n",
    "modelRegTree = treeReg.fit(x,y)\n",
    "# print(f'Decision tree has {treeReg.tree_.node_count} nodes with maximum depth {treeReg.tree_.max_depth}.')\n",
    "# print('*'*40)\n",
    "# print(f'Model Accuracy: {treeReg.score(x, y)}')\n",
    "\n",
    "treeReg.score(x, y)"
   ]
  },
  {
   "cell_type": "code",
   "execution_count": null,
   "metadata": {},
   "outputs": [],
   "source": [
    "pred_test_tree = treeReg.predict(test)\n",
    "\n",
    "submission1=pd.read_csv(\"Sample_Submission.csv\")\n",
    "\n",
    "submission1['bestSoldierPerc']=pred_test_tree\n",
    "submission1['soldierId']=test_original['soldierId']\n",
    "\n",
    "pd.DataFrame(submission1, columns=['soldierId','bestSoldierPerc']).to_csv('sub_tree.csv')"
   ]
  },
  {
   "cell_type": "code",
   "execution_count": null,
   "metadata": {},
   "outputs": [],
   "source": [
    " "
   ]
  },
  {
   "cell_type": "code",
   "execution_count": null,
   "metadata": {},
   "outputs": [],
   "source": []
  },
  {
   "cell_type": "code",
   "execution_count": null,
   "metadata": {},
   "outputs": [],
   "source": []
  },
  {
   "cell_type": "code",
   "execution_count": null,
   "metadata": {},
   "outputs": [],
   "source": []
  },
  {
   "cell_type": "code",
   "execution_count": null,
   "metadata": {},
   "outputs": [],
   "source": []
  },
  {
   "cell_type": "code",
   "execution_count": null,
   "metadata": {},
   "outputs": [],
   "source": []
  },
  {
   "cell_type": "code",
   "execution_count": null,
   "metadata": {},
   "outputs": [],
   "source": []
  },
  {
   "cell_type": "code",
   "execution_count": null,
   "metadata": {},
   "outputs": [],
   "source": []
  },
  {
   "cell_type": "code",
   "execution_count": null,
   "metadata": {},
   "outputs": [],
   "source": []
  },
  {
   "cell_type": "code",
   "execution_count": null,
   "metadata": {},
   "outputs": [],
   "source": []
  },
  {
   "cell_type": "code",
   "execution_count": null,
   "metadata": {},
   "outputs": [],
   "source": []
  },
  {
   "cell_type": "code",
   "execution_count": null,
   "metadata": {},
   "outputs": [],
   "source": []
  },
  {
   "cell_type": "code",
   "execution_count": null,
   "metadata": {},
   "outputs": [],
   "source": []
  },
  {
   "cell_type": "code",
   "execution_count": null,
   "metadata": {},
   "outputs": [],
   "source": []
  },
  {
   "cell_type": "code",
   "execution_count": null,
   "metadata": {},
   "outputs": [],
   "source": []
  },
  {
   "cell_type": "code",
   "execution_count": null,
   "metadata": {},
   "outputs": [],
   "source": []
  },
  {
   "cell_type": "code",
   "execution_count": null,
   "metadata": {},
   "outputs": [],
   "source": []
  },
  {
   "cell_type": "code",
   "execution_count": null,
   "metadata": {},
   "outputs": [],
   "source": []
  }
 ],
 "metadata": {
  "kernelspec": {
   "display_name": "Python 3",
   "language": "python",
   "name": "python3"
  },
  "language_info": {
   "codemirror_mode": {
    "name": "ipython",
    "version": 3
   },
   "file_extension": ".py",
   "mimetype": "text/x-python",
   "name": "python",
   "nbconvert_exporter": "python",
   "pygments_lexer": "ipython3",
   "version": "3.6.5"
  }
 },
 "nbformat": 4,
 "nbformat_minor": 2
}
