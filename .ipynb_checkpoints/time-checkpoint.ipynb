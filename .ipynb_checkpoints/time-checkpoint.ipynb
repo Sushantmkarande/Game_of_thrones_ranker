{
 "cells": [
  {
   "cell_type": "code",
   "execution_count": 1,
   "metadata": {},
   "outputs": [],
   "source": [
    "# All project packages imported at the start\n",
    "\n",
    "# Project packages\n",
    "import pandas as pd\n",
    "import numpy as np\n",
    "\n",
    "# Visualisations\n",
    "import matplotlib.pyplot as plt \n",
    "import seaborn as sns\n",
    "\n",
    "# Statistics\n",
    "from scipy import stats\n",
    "from scipy.stats import norm, skew\n",
    "from statistics import mode\n",
    "\n",
    "# Machine Learning\n",
    "from sklearn.preprocessing import LabelEncoder\n",
    "from sklearn.linear_model import Lasso, Ridge, RidgeCV, ElasticNet\n",
    "\n",
    "\n",
    "from sklearn.pipeline import make_pipeline\n",
    "from sklearn.preprocessing import RobustScaler\n",
    "from sklearn.base import BaseEstimator, TransformerMixin, RegressorMixin, clone\n",
    "from sklearn.model_selection import KFold, cross_val_score, train_test_split\n",
    "from sklearn.metrics import mean_squared_error\n",
    "from sklearn.model_selection import GridSearchCV\n",
    "from sklearn.linear_model import LinearRegression\n",
    "from sklearn.ensemble import GradientBoostingRegressor\n",
    "from sklearn.kernel_ridge import KernelRidge\n",
    "\n",
    "\n",
    "    \n",
    "train = pd.read_csv('train.csv')\n",
    "    \n",
    "test = pd.read_csv('test.csv')\n",
    "\n"
   ]
  },
  {
   "cell_type": "code",
   "execution_count": 6,
   "metadata": {},
   "outputs": [],
   "source": [
    "train = train[:5000]"
   ]
  },
  {
   "cell_type": "code",
   "execution_count": 18,
   "metadata": {
    "run_control": {
     "marked": true
    }
   },
   "outputs": [],
   "source": [
    "train_ID = train['soldierId']\n",
    "test_ID = test['soldierId']\n",
    "\n",
    "train.drop(\"soldierId\", axis = 1, inplace = True)\n",
    "test.drop(\"soldierId\", axis = 1, inplace = True)\n",
    "\n",
    "\n",
    "\n",
    "train.drop(\"shipId\", axis = 1, inplace = True)\n",
    "test.drop(\"shipId\", axis = 1, inplace = True)\n",
    "train.drop(\"attackId\", axis = 1, inplace = True)\n",
    "test.drop(\"attackId\", axis = 1, inplace = True)"
   ]
  },
  {
   "cell_type": "code",
   "execution_count": 19,
   "metadata": {},
   "outputs": [],
   "source": [
    "train['knockedOutSoldiers'].fillna(train['knockedOutSoldiers'].mode()[0], inplace=True)\n",
    "train['horseRideDistance'].fillna(train['horseRideDistance'].mode()[0], inplace=True)\n",
    "train['respectEarned'].fillna(train['respectEarned'].mode()[0], inplace=True)"
   ]
  },
  {
   "cell_type": "markdown",
   "metadata": {},
   "source": [
    "# Watchout for null features"
   ]
  },
  {
   "cell_type": "code",
   "execution_count": 20,
   "metadata": {},
   "outputs": [
    {
     "data": {
      "text/plain": [
       "assists                0\n",
       "greekFireItems         0\n",
       "healthLost             0\n",
       "knockedOutSoldiers     0\n",
       "throatSlits            0\n",
       "healingPotionsUsed     0\n",
       "killRank               0\n",
       "killPoints             0\n",
       "enemiesKilled          0\n",
       "killingStreaks         0\n",
       "farthermostKill        0\n",
       "numShips               0\n",
       "numSaves               0\n",
       "horseRideDistance      0\n",
       "horseRideKills         0\n",
       "swimmingDistance       0\n",
       "friendlyKills          0\n",
       "castleTowerDestroys    0\n",
       "onFootDistance         0\n",
       "weaponsUsed            0\n",
       "respectEarned          0\n",
       "bestSoldierPerc        0\n",
       "dtype: int64"
      ]
     },
     "execution_count": 20,
     "metadata": {},
     "output_type": "execute_result"
    }
   ],
   "source": [
    "train.isnull().sum()"
   ]
  },
  {
   "cell_type": "markdown",
   "metadata": {},
   "source": [
    "# Preparing X and y  dataset"
   ]
  },
  {
   "cell_type": "code",
   "execution_count": 21,
   "metadata": {},
   "outputs": [],
   "source": [
    "x = train.drop(['bestSoldierPerc',],1)\n",
    "y = train.bestSoldierPerc"
   ]
  },
  {
   "cell_type": "markdown",
   "metadata": {},
   "source": [
    "# Ridge Regression"
   ]
  },
  {
   "cell_type": "code",
   "execution_count": 39,
   "metadata": {},
   "outputs": [
    {
     "name": "stdout",
     "output_type": "stream",
     "text": [
      "ridge regression linear model intercept: 0.5105995517843949\n",
      "ridge regression linear model coeff:\n",
      "[ 0.31647709  0.20115017  0.11536082 -0.00886926  0.01195346  0.04005453\n",
      " -0.60510074 -0.05759595 -0.08763255 -0.44075012 -0.07159974  0.12477566\n",
      "  0.09910973  0.0647425   0.16966092  0.11379669 -0.1485357  -0.02972799\n",
      "  1.1766115   0.46126802  0.14572295]\n",
      "Number of non-zero features: 21\n",
      "R-squared score (training): 0.793\n",
      "R-squared score (test): 0.780\n"
     ]
    }
   ],
   "source": [
    "from sklearn import cross_validation\n",
    "x_train, x_test, y_train, y_test = cross_validation.train_test_split(x,y, test_size =0.2)\n",
    "\n",
    "from sklearn.linear_model import ridge\n",
    "from sklearn.preprocessing import MinMaxScaler\n",
    " \n",
    "scaler = MinMaxScaler()\n",
    "\n",
    "X_train_scaled = scaler.fit_transform(x_train)\n",
    "X_test_scaled = scaler.transform(x_test)\n",
    "\n",
    "linridge = Ridge(alpha=1).fit(X_train_scaled, y_train)\n",
    "\n",
    "print('ridge regression linear model intercept: {}'\n",
    "     .format(linridge.intercept_))\n",
    "print('ridge regression linear model coeff:\\n{}'\n",
    "     .format(linridge.coef_))\n",
    "print('Number of non-zero features: {}'\n",
    "     .format(np.sum(linridge.coef_ != 0)))\n",
    "print('R-squared score (training): {:.3f}'\n",
    "     .format(linridge.score(X_train_scaled, y_train)))\n",
    "print('R-squared score (test): {:.3f}'\n",
    "     .format(linridge.score(X_test_scaled, y_test)))\n"
   ]
  },
  {
   "cell_type": "markdown",
   "metadata": {},
   "source": [
    "# Lasso Regression"
   ]
  },
  {
   "cell_type": "code",
   "execution_count": 82,
   "metadata": {},
   "outputs": [
    {
     "name": "stderr",
     "output_type": "stream",
     "text": [
      "C:\\Users\\sushant\\Anaconda3\\lib\\site-packages\\sklearn\\linear_model\\coordinate_descent.py:491: ConvergenceWarning: Objective did not converge. You might want to increase the number of iterations. Fitting data with very small alpha may cause precision problems.\n",
      "  ConvergenceWarning)\n"
     ]
    },
    {
     "name": "stdout",
     "output_type": "stream",
     "text": [
      "     alpha_lasso  train_score  test_score\n",
      "0   1.000000e-20     0.789366    0.795891\n",
      "1   1.000000e-15     0.792952    0.780651\n",
      "2   1.000000e-10     0.786942    0.806365\n",
      "3   1.000000e-08     0.794554    0.773992\n",
      "4   1.000000e-05     0.787003    0.804539\n",
      "5   1.000000e-04     0.795201    0.772055\n",
      "6   1.000000e-03     0.791681    0.781448\n",
      "7   1.000000e-02     0.776220    0.795328\n",
      "8   1.000000e+00     0.713075    0.715367\n",
      "9   5.000000e+00     0.672255    0.685048\n",
      "10  1.000000e+01     0.660728    0.644450\n",
      "intercept  0.25318805203354955\n"
     ]
    }
   ],
   "source": [
    "from sklearn.linear_model import Lasso\n",
    "\n",
    "alpha_lasso = [1e-20, 1e-15, 1e-10, 1e-8, 1e-5,1e-4, 1e-3,1e-2, 1, 5, 10]\n",
    "\n",
    "train_score = []\n",
    "test_score = []\n",
    "\n",
    "for alpha in alpha_lasso:\n",
    "    \n",
    "    lasso_model= Lasso(alpha=alpha, max_iter=100000)\n",
    "    x_train, x_test, y_train, y_test = cross_validation.train_test_split(x,y, test_size =0.2)\n",
    "    lasso_model.fit(x_train, y_train)\n",
    "    train_score.append(lasso_model.score(x_train, y_train))\n",
    "    test_score.append(lasso_model.score(x_test, y_test))\n",
    "lasso_scores = pd.DataFrame({'alpha_lasso':alpha_lasso, 'train_score':train_score, 'test_score':test_score})\n",
    "\n",
    "# for index, coefficient in enumerate(lasso_model.coef_):\n",
    "    "
   ]
  },
  {
   "cell_type": "markdown",
   "metadata": {},
   "source": [
    "### Lasso Intercept and train, test score"
   ]
  },
  {
   "cell_type": "code",
   "execution_count": null,
   "metadata": {},
   "outputs": [],
   "source": [
    "print(lasso_scores.head(11))\n",
    "print('intercept ',lasso_model.intercept_)"
   ]
  },
  {
   "cell_type": "markdown",
   "metadata": {},
   "source": [
    "### Importance of features by lasso"
   ]
  },
  {
   "cell_type": "code",
   "execution_count": 91,
   "metadata": {},
   "outputs": [
    {
     "data": {
      "text/html": [
       "<div>\n",
       "<style scoped>\n",
       "    .dataframe tbody tr th:only-of-type {\n",
       "        vertical-align: middle;\n",
       "    }\n",
       "\n",
       "    .dataframe tbody tr th {\n",
       "        vertical-align: top;\n",
       "    }\n",
       "\n",
       "    .dataframe thead th {\n",
       "        text-align: right;\n",
       "    }\n",
       "</style>\n",
       "<table border=\"1\" class=\"dataframe\">\n",
       "  <thead>\n",
       "    <tr style=\"text-align: right;\">\n",
       "      <th></th>\n",
       "      <th>features</th>\n",
       "      <th>coeficient</th>\n",
       "    </tr>\n",
       "  </thead>\n",
       "  <tbody>\n",
       "    <tr>\n",
       "      <th>18</th>\n",
       "      <td>onFootDistance</td>\n",
       "      <td>0.000207</td>\n",
       "    </tr>\n",
       "    <tr>\n",
       "      <th>2</th>\n",
       "      <td>healthLost</td>\n",
       "      <td>0.000031</td>\n",
       "    </tr>\n",
       "    <tr>\n",
       "      <th>13</th>\n",
       "      <td>horseRideDistance</td>\n",
       "      <td>0.000012</td>\n",
       "    </tr>\n",
       "    <tr>\n",
       "      <th>0</th>\n",
       "      <td>assists</td>\n",
       "      <td>0.000000</td>\n",
       "    </tr>\n",
       "    <tr>\n",
       "      <th>11</th>\n",
       "      <td>numShips</td>\n",
       "      <td>0.000000</td>\n",
       "    </tr>\n",
       "    <tr>\n",
       "      <th>19</th>\n",
       "      <td>weaponsUsed</td>\n",
       "      <td>0.000000</td>\n",
       "    </tr>\n",
       "    <tr>\n",
       "      <th>17</th>\n",
       "      <td>castleTowerDestroys</td>\n",
       "      <td>-0.000000</td>\n",
       "    </tr>\n",
       "    <tr>\n",
       "      <th>16</th>\n",
       "      <td>friendlyKills</td>\n",
       "      <td>-0.000000</td>\n",
       "    </tr>\n",
       "    <tr>\n",
       "      <th>15</th>\n",
       "      <td>swimmingDistance</td>\n",
       "      <td>0.000000</td>\n",
       "    </tr>\n",
       "    <tr>\n",
       "      <th>14</th>\n",
       "      <td>horseRideKills</td>\n",
       "      <td>0.000000</td>\n",
       "    </tr>\n",
       "    <tr>\n",
       "      <th>12</th>\n",
       "      <td>numSaves</td>\n",
       "      <td>0.000000</td>\n",
       "    </tr>\n",
       "    <tr>\n",
       "      <th>10</th>\n",
       "      <td>farthermostKill</td>\n",
       "      <td>0.000000</td>\n",
       "    </tr>\n",
       "    <tr>\n",
       "      <th>1</th>\n",
       "      <td>greekFireItems</td>\n",
       "      <td>0.000000</td>\n",
       "    </tr>\n",
       "    <tr>\n",
       "      <th>9</th>\n",
       "      <td>killingStreaks</td>\n",
       "      <td>0.000000</td>\n",
       "    </tr>\n",
       "    <tr>\n",
       "      <th>8</th>\n",
       "      <td>enemiesKilled</td>\n",
       "      <td>0.000000</td>\n",
       "    </tr>\n",
       "    <tr>\n",
       "      <th>7</th>\n",
       "      <td>killPoints</td>\n",
       "      <td>-0.000000</td>\n",
       "    </tr>\n",
       "    <tr>\n",
       "      <th>6</th>\n",
       "      <td>killRank</td>\n",
       "      <td>-0.000000</td>\n",
       "    </tr>\n",
       "    <tr>\n",
       "      <th>5</th>\n",
       "      <td>healingPotionsUsed</td>\n",
       "      <td>0.000000</td>\n",
       "    </tr>\n",
       "    <tr>\n",
       "      <th>4</th>\n",
       "      <td>throatSlits</td>\n",
       "      <td>0.000000</td>\n",
       "    </tr>\n",
       "    <tr>\n",
       "      <th>3</th>\n",
       "      <td>knockedOutSoldiers</td>\n",
       "      <td>0.000000</td>\n",
       "    </tr>\n",
       "    <tr>\n",
       "      <th>20</th>\n",
       "      <td>respectEarned</td>\n",
       "      <td>0.000000</td>\n",
       "    </tr>\n",
       "  </tbody>\n",
       "</table>\n",
       "</div>"
      ],
      "text/plain": [
       "               features  coeficient\n",
       "18       onFootDistance    0.000207\n",
       "2            healthLost    0.000031\n",
       "13    horseRideDistance    0.000012\n",
       "0               assists    0.000000\n",
       "11             numShips    0.000000\n",
       "19          weaponsUsed    0.000000\n",
       "17  castleTowerDestroys   -0.000000\n",
       "16        friendlyKills   -0.000000\n",
       "15     swimmingDistance    0.000000\n",
       "14       horseRideKills    0.000000\n",
       "12             numSaves    0.000000\n",
       "10      farthermostKill    0.000000\n",
       "1        greekFireItems    0.000000\n",
       "9        killingStreaks    0.000000\n",
       "8         enemiesKilled    0.000000\n",
       "7            killPoints   -0.000000\n",
       "6              killRank   -0.000000\n",
       "5    healingPotionsUsed    0.000000\n",
       "4           throatSlits    0.000000\n",
       "3    knockedOutSoldiers    0.000000\n",
       "20        respectEarned    0.000000"
      ]
     },
     "execution_count": 91,
     "metadata": {},
     "output_type": "execute_result"
    }
   ],
   "source": [
    "df = pd.DataFrame({\"features\": x_train.columns, \"coeficient\": lasso_model.coef_} )\n",
    "df.sort_values(by='coeficient', ascending= False)"
   ]
  },
  {
   "cell_type": "markdown",
   "metadata": {},
   "source": [
    "# "
   ]
  },
  {
   "cell_type": "code",
   "execution_count": 40,
   "metadata": {
    "run_control": {
     "marked": true
    }
   },
   "outputs": [],
   "source": [
    "clf = LinearRegression()\n",
    "clf.fit(x_train,y_train)\n",
    "accuracy = clf.score(x_test,y_test)"
   ]
  },
  {
   "cell_type": "code",
   "execution_count": 43,
   "metadata": {},
   "outputs": [],
   "source": [
    "pred_test = clf.predict(test)"
   ]
  },
  {
   "cell_type": "code",
   "execution_count": 61,
   "metadata": {},
   "outputs": [
    {
     "data": {
      "text/plain": [
       "array([ 2.86516387e-02,  9.80931996e-03,  8.92999877e-05, -8.94610652e-03,\n",
       "        2.56683216e-02,  3.44308922e-04, -5.48102298e-03, -1.53550441e-04,\n",
       "       -8.02650882e-03, -8.62420953e-02, -1.40057895e-04,  1.62250147e-03,\n",
       "        1.54626608e-02, -1.31714601e-06,  1.41787946e-01,  3.64862517e-04,\n",
       "       -7.19374087e-02, -2.37457699e-02,  1.37218047e-04,  1.38473036e-02,\n",
       "        7.34324466e-04])"
      ]
     },
     "execution_count": 61,
     "metadata": {},
     "output_type": "execute_result"
    }
   ],
   "source": [
    "clf.coef_"
   ]
  },
  {
   "cell_type": "code",
   "execution_count": 62,
   "metadata": {},
   "outputs": [
    {
     "data": {
      "text/plain": [
       "-0.45071163503530387"
      ]
     },
     "execution_count": 62,
     "metadata": {},
     "output_type": "execute_result"
    }
   ],
   "source": [
    "clf.intercept_"
   ]
  },
  {
   "cell_type": "code",
   "execution_count": 44,
   "metadata": {},
   "outputs": [],
   "source": [
    "pred_test = clf.predict(test)"
   ]
  },
  {
   "cell_type": "code",
   "execution_count": 45,
   "metadata": {},
   "outputs": [],
   "source": [
    "submission=pd.read_csv(\"Sample_Submission.csv\")"
   ]
  },
  {
   "cell_type": "code",
   "execution_count": 46,
   "metadata": {},
   "outputs": [],
   "source": [
    "submission['bestSoldierPerc']=pred_test\n",
    "submission['soldierId']=test_original['soldierId']"
   ]
  },
  {
   "cell_type": "code",
   "execution_count": 47,
   "metadata": {},
   "outputs": [],
   "source": [
    "pd.DataFrame(submission, columns=['soldierId','bestSoldierPerc']).to_csv('sub.csv')"
   ]
  },
  {
   "cell_type": "code",
   "execution_count": 48,
   "metadata": {},
   "outputs": [
    {
     "data": {
      "text/plain": [
       "0.8325354984838659"
      ]
     },
     "execution_count": 48,
     "metadata": {},
     "output_type": "execute_result"
    }
   ],
   "source": [
    "from sklearn.tree import DecisionTreeClassifier\n",
    "from sklearn.tree import DecisionTreeRegressor\n",
    "\n",
    "tree = DecisionTreeClassifier(random_state=101)\n",
    "\n",
    "treeReg = DecisionTreeRegressor(random_state=0, max_depth=5)\n",
    "modelRegTree = treeReg.fit(x,y)\n",
    "# print(f'Decision tree has {treeReg.tree_.node_count} nodes with maximum depth {treeReg.tree_.max_depth}.')\n",
    "# print('*'*40)\n",
    "# print(f'Model Accuracy: {treeReg.score(x, y)}')\n",
    "\n",
    "treeReg.score(x, y)"
   ]
  },
  {
   "cell_type": "code",
   "execution_count": 49,
   "metadata": {},
   "outputs": [],
   "source": [
    "pred_test_tree = treeReg.predict(test)\n",
    "\n",
    "submission1=pd.read_csv(\"Sample_Submission.csv\")\n",
    "\n",
    "submission1['bestSoldierPerc']=pred_test_tree\n",
    "submission1['soldierId']=test_original['soldierId']\n",
    "\n",
    "pd.DataFrame(submission1, columns=['soldierId','bestSoldierPerc']).to_csv('sub_tree.csv')"
   ]
  },
  {
   "cell_type": "code",
   "execution_count": null,
   "metadata": {},
   "outputs": [],
   "source": []
  },
  {
   "cell_type": "code",
   "execution_count": null,
   "metadata": {},
   "outputs": [],
   "source": []
  },
  {
   "cell_type": "code",
   "execution_count": null,
   "metadata": {},
   "outputs": [],
   "source": []
  },
  {
   "cell_type": "code",
   "execution_count": null,
   "metadata": {},
   "outputs": [],
   "source": []
  },
  {
   "cell_type": "code",
   "execution_count": null,
   "metadata": {},
   "outputs": [],
   "source": []
  },
  {
   "cell_type": "code",
   "execution_count": null,
   "metadata": {},
   "outputs": [],
   "source": []
  },
  {
   "cell_type": "code",
   "execution_count": null,
   "metadata": {},
   "outputs": [],
   "source": []
  },
  {
   "cell_type": "code",
   "execution_count": null,
   "metadata": {},
   "outputs": [],
   "source": []
  },
  {
   "cell_type": "code",
   "execution_count": null,
   "metadata": {},
   "outputs": [],
   "source": []
  },
  {
   "cell_type": "code",
   "execution_count": null,
   "metadata": {},
   "outputs": [],
   "source": []
  },
  {
   "cell_type": "code",
   "execution_count": null,
   "metadata": {},
   "outputs": [],
   "source": []
  },
  {
   "cell_type": "code",
   "execution_count": null,
   "metadata": {},
   "outputs": [],
   "source": []
  },
  {
   "cell_type": "code",
   "execution_count": null,
   "metadata": {},
   "outputs": [],
   "source": []
  },
  {
   "cell_type": "code",
   "execution_count": null,
   "metadata": {},
   "outputs": [],
   "source": []
  },
  {
   "cell_type": "code",
   "execution_count": null,
   "metadata": {},
   "outputs": [],
   "source": []
  },
  {
   "cell_type": "code",
   "execution_count": null,
   "metadata": {},
   "outputs": [],
   "source": []
  },
  {
   "cell_type": "code",
   "execution_count": null,
   "metadata": {},
   "outputs": [],
   "source": []
  },
  {
   "cell_type": "code",
   "execution_count": null,
   "metadata": {},
   "outputs": [],
   "source": []
  }
 ],
 "metadata": {
  "kernelspec": {
   "display_name": "Python 3",
   "language": "python",
   "name": "python3"
  },
  "language_info": {
   "codemirror_mode": {
    "name": "ipython",
    "version": 3
   },
   "file_extension": ".py",
   "mimetype": "text/x-python",
   "name": "python",
   "nbconvert_exporter": "python",
   "pygments_lexer": "ipython3",
   "version": "3.6.5"
  }
 },
 "nbformat": 4,
 "nbformat_minor": 2
}
