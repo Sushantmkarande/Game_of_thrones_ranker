{
 "cells": [
  {
   "cell_type": "code",
   "execution_count": 1,
   "metadata": {
    "run_control": {
     "marked": true
    }
   },
   "outputs": [
    {
     "name": "stdout",
     "output_type": "stream",
     "text": [
      "0.9030522918898032\n",
      "0.8855629470567555\n",
      "0.9000089020526739\n",
      "0.8824134658672536\n",
      "0.9027263504616535\n",
      "0.892293184399006\n",
      "0.9032684370437671\n",
      "0.8960573427898365\n",
      "0.9028326289317096\n",
      "0.8935451606486975\n",
      "0.9042174210038462\n",
      "0.8957704647358483\n",
      "0.9021056899934216\n",
      "0.8980416683044753\n",
      "0.9021991953235016\n",
      "0.8967403160747645\n"
     ]
    }
   ],
   "source": [
    "# All project packages imported at the start\n",
    "\n",
    "# Project packages\n",
    "import pandas as pd\n",
    "import numpy as np\n",
    "\n",
    "# Visualisations\n",
    "import matplotlib.pyplot as plt \n",
    "import seaborn as sns\n",
    "\n",
    "# Statistics\n",
    "from scipy import stats\n",
    "from scipy.stats import norm, skew\n",
    "from statistics import mode\n",
    "\n",
    "# Machine Learning\n",
    "from sklearn.preprocessing import LabelEncoder\n",
    "from sklearn.linear_model import Lasso, Ridge, RidgeCV, ElasticNet\n",
    "\n",
    "\n",
    "from sklearn.pipeline import make_pipeline\n",
    "from sklearn.preprocessing import RobustScaler\n",
    "from sklearn.base import BaseEstimator, TransformerMixin, RegressorMixin, clone\n",
    "from sklearn.model_selection import KFold, cross_val_score, train_test_split\n",
    "from sklearn.metrics import mean_squared_error\n",
    "from sklearn.model_selection import GridSearchCV\n",
    "from sklearn.linear_model import LinearRegression\n",
    "from sklearn.ensemble import GradientBoostingRegressor\n",
    "from sklearn.kernel_ridge import KernelRidge\n",
    "\n",
    "import timeit\n",
    "\n",
    "\n",
    "\n",
    "    \n",
    "train_2 = pd.read_csv('train.csv')\n",
    "    \n",
    "test = pd.read_csv('test.csv')\n",
    "\n",
    "\n",
    "\n",
    "train_2.drop(\"soldierId\", axis = 1, inplace = True)\n",
    "test.drop(\"soldierId\", axis = 1, inplace = True)\n",
    "\n",
    "\n",
    "train_2.drop(['horseRideKills','numSaves','swimmingDistance','friendlyKills','castleTowerDestroys','respectEarned'], axis = 1, inplace = True)\n",
    "test.drop(['horseRideKills','numSaves','swimmingDistance','friendlyKills','castleTowerDestroys','respectEarned'], axis = 1, inplace = True)\n",
    "\n",
    "\n",
    "\n",
    "train_2.drop(\"knockedOutSoldiers\", axis = 1, inplace = True)\n",
    "test.drop(\"knockedOutSoldiers\", axis = 1, inplace = True)\n",
    "\n",
    "train_2.drop(\"shipId\", axis = 1, inplace = True)\n",
    "test.drop(\"shipId\", axis = 1, inplace = True)\n",
    "train_2.drop(\"attackId\", axis = 1, inplace = True)\n",
    "test.drop(\"attackId\", axis = 1, inplace = True)\n",
    "\n",
    "\n",
    "\n",
    "samples = [10_000,20_000,30_000,50_000,60_000,80_000,100_000,110_000]\n",
    "time = []\n",
    "\n",
    "\n",
    "for sample in samples:\n",
    "\n",
    "    from sklearn.utils import shuffle\n",
    "\n",
    "    train = shuffle(train_2,n_samples= sample )\n",
    "\n",
    "\n",
    "    train = train.drop(train[train.isnull().any(1)].index, axis = 0)\n",
    "\n",
    " \n",
    "\n",
    "    columns = train.drop('bestSoldierPerc', axis=1).columns\n",
    "    train_col = train.columns\n",
    "\n",
    "    index = train.index\n",
    "\n",
    "   \n",
    "\n",
    "    from sklearn.preprocessing import MinMaxScaler\n",
    "\n",
    "    scaler = MinMaxScaler()\n",
    "\n",
    "    train = scaler.fit_transform(train)\n",
    "\n",
    "    train = pd.DataFrame(data=train, index = index, columns = train_col)\n",
    "\n",
    "    # Watchout for null features\n",
    "\n",
    "\n",
    "    # Preparing X and y  dataset\n",
    "\n",
    "    x = train.drop(['bestSoldierPerc',],1)\n",
    "    y = train.bestSoldierPerc\n",
    "\n",
    "\n",
    "\n",
    "    start_time = timeit.default_timer()\n",
    "    \n",
    "    from sklearn.model_selection import validation_curve\n",
    "    from sklearn.svm import SVR\n",
    "\n",
    "\n",
    "    from sklearn.preprocessing import MinMaxScaler\n",
    "\n",
    "\n",
    "\n",
    "    X_train, X_test, y_train, y_test = train_test_split(x, y, random_state=0)\n",
    "\n",
    "    model = SVR(gamma= 5)\n",
    "    model.fit(X_train, y_train)\n",
    "\n",
    "    print(model.score(X_train, y_train))\n",
    "    print(model.score(X_test, y_test))\n",
    "    \n",
    "    elapsed = timeit.default_timer() - start_time\n",
    "    time.append(elapsed)\n",
    "    "
   ]
  },
  {
   "cell_type": "code",
   "execution_count": 6,
   "metadata": {},
   "outputs": [
    {
     "data": {
      "text/plain": [
       "[1.634361802347424,\n",
       " 5.624287173368423,\n",
       " 12.312549864353855,\n",
       " 37.561663775021856,\n",
       " 57.63636827031814,\n",
       " 127.46282238378514,\n",
       " 218.56552643353527,\n",
       " 261.7907620915748]"
      ]
     },
     "execution_count": 6,
     "metadata": {},
     "output_type": "execute_result"
    }
   ],
   "source": [
    "time"
   ]
  },
  {
   "cell_type": "code",
   "execution_count": 17,
   "metadata": {},
   "outputs": [
    {
     "data": {
      "text/html": [
       "<div>\n",
       "<style scoped>\n",
       "    .dataframe tbody tr th:only-of-type {\n",
       "        vertical-align: middle;\n",
       "    }\n",
       "\n",
       "    .dataframe tbody tr th {\n",
       "        vertical-align: top;\n",
       "    }\n",
       "\n",
       "    .dataframe thead th {\n",
       "        text-align: right;\n",
       "    }\n",
       "</style>\n",
       "<table border=\"1\" class=\"dataframe\">\n",
       "  <thead>\n",
       "    <tr style=\"text-align: right;\">\n",
       "      <th></th>\n",
       "      <th>sample</th>\n",
       "      <th>time</th>\n",
       "    </tr>\n",
       "  </thead>\n",
       "  <tbody>\n",
       "    <tr>\n",
       "      <th>0</th>\n",
       "      <td>10000</td>\n",
       "      <td>1.634362</td>\n",
       "    </tr>\n",
       "    <tr>\n",
       "      <th>1</th>\n",
       "      <td>20000</td>\n",
       "      <td>5.624287</td>\n",
       "    </tr>\n",
       "    <tr>\n",
       "      <th>2</th>\n",
       "      <td>30000</td>\n",
       "      <td>12.312550</td>\n",
       "    </tr>\n",
       "    <tr>\n",
       "      <th>3</th>\n",
       "      <td>50000</td>\n",
       "      <td>37.561664</td>\n",
       "    </tr>\n",
       "    <tr>\n",
       "      <th>4</th>\n",
       "      <td>60000</td>\n",
       "      <td>57.636368</td>\n",
       "    </tr>\n",
       "    <tr>\n",
       "      <th>5</th>\n",
       "      <td>80000</td>\n",
       "      <td>127.462822</td>\n",
       "    </tr>\n",
       "    <tr>\n",
       "      <th>6</th>\n",
       "      <td>100000</td>\n",
       "      <td>218.565526</td>\n",
       "    </tr>\n",
       "    <tr>\n",
       "      <th>7</th>\n",
       "      <td>110000</td>\n",
       "      <td>261.790762</td>\n",
       "    </tr>\n",
       "  </tbody>\n",
       "</table>\n",
       "</div>"
      ],
      "text/plain": [
       "   sample        time\n",
       "0   10000    1.634362\n",
       "1   20000    5.624287\n",
       "2   30000   12.312550\n",
       "3   50000   37.561664\n",
       "4   60000   57.636368\n",
       "5   80000  127.462822\n",
       "6  100000  218.565526\n",
       "7  110000  261.790762"
      ]
     },
     "execution_count": 17,
     "metadata": {},
     "output_type": "execute_result"
    }
   ],
   "source": [
    "df = pd.DataFrame({'sample' : samples, 'time' : time})\n",
    "\n",
    "df"
   ]
  },
  {
   "cell_type": "code",
   "execution_count": 25,
   "metadata": {},
   "outputs": [],
   "source": [
    "df\n",
    "\n",
    "x= np.array(df['sample'])\n",
    "y= np.array(df['time'])\n"
   ]
  },
  {
   "cell_type": "code",
   "execution_count": 30,
   "metadata": {},
   "outputs": [],
   "source": [
    "x = x.reshape(-1,1)"
   ]
  },
  {
   "cell_type": "code",
   "execution_count": 31,
   "metadata": {},
   "outputs": [],
   "source": [
    "y = y.reshape(-1,1)"
   ]
  },
  {
   "cell_type": "code",
   "execution_count": 32,
   "metadata": {},
   "outputs": [],
   "source": [
    "from sklearn.linear_model import LinearRegression\n",
    "model = LinearRegression()\n"
   ]
  },
  {
   "cell_type": "code",
   "execution_count": 33,
   "metadata": {},
   "outputs": [
    {
     "data": {
      "text/plain": [
       "LinearRegression(copy_X=True, fit_intercept=True, n_jobs=1, normalize=False)"
      ]
     },
     "execution_count": 33,
     "metadata": {},
     "output_type": "execute_result"
    }
   ],
   "source": [
    "model.fit(x, y)"
   ]
  },
  {
   "cell_type": "code",
   "execution_count": null,
   "metadata": {},
   "outputs": [],
   "source": []
  },
  {
   "cell_type": "code",
   "execution_count": 35,
   "metadata": {},
   "outputs": [],
   "source": [
    "pred = np.array([5_000, 500_000,100_000,4_000_000])\n",
    "\n",
    "pred = pred.reshape(-1,1)\n"
   ]
  },
  {
   "cell_type": "code",
   "execution_count": 36,
   "metadata": {},
   "outputs": [
    {
     "data": {
      "text/plain": [
       "array([[  -47.85977634],\n",
       "       [ 1255.01151768],\n",
       "       [  202.18622958],\n",
       "       [10467.23278854]])"
      ]
     },
     "execution_count": 36,
     "metadata": {},
     "output_type": "execute_result"
    }
   ],
   "source": [
    "model.predict(pred)"
   ]
  },
  {
   "cell_type": "code",
   "execution_count": 1,
   "metadata": {},
   "outputs": [
    {
     "data": {
      "text/plain": [
       "3.3666666666666667"
      ]
     },
     "execution_count": 1,
     "metadata": {},
     "output_type": "execute_result"
    }
   ],
   "source": [
    "202/60"
   ]
  },
  {
   "cell_type": "code",
   "execution_count": null,
   "metadata": {},
   "outputs": [],
   "source": []
  }
 ],
 "metadata": {
  "kernelspec": {
   "display_name": "Python 3",
   "language": "python",
   "name": "python3"
  },
  "language_info": {
   "codemirror_mode": {
    "name": "ipython",
    "version": 3
   },
   "file_extension": ".py",
   "mimetype": "text/x-python",
   "name": "python",
   "nbconvert_exporter": "python",
   "pygments_lexer": "ipython3",
   "version": "3.6.5"
  }
 },
 "nbformat": 4,
 "nbformat_minor": 2
}
